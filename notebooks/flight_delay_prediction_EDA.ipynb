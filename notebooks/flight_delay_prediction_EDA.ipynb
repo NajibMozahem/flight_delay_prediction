{
 "cells": [
  {
   "attachments": {},
   "cell_type": "markdown",
   "id": "7a560953-e136-4108-98f9-38aa55d69cb2",
   "metadata": {},
   "source": [
    "# The data\n",
    "The dataset is open sourced data from Kaggle. \\\n",
    "data sample: https://www.kaggle.com/datasets/patrickzel/flight-delay-and-cancellation-dataset-2019-2023?resource=download&select=flights_sample_3m.csv \\\n",
    "full data: https://www.kaggle.com/code/alperenkaran/visualization-of-flight-delays/input"
   ]
  },
  {
   "cell_type": "code",
   "execution_count": 50,
   "id": "dbc0b766",
   "metadata": {},
   "outputs": [],
   "source": [
    "import sys\n",
    "sys.path.append('../src')"
   ]
  },
  {
   "cell_type": "code",
   "execution_count": 51,
   "id": "ff1a78a7-c892-4bce-8f28-57fbe087c08b",
   "metadata": {},
   "outputs": [],
   "source": [
    "import pandas as pd\n",
    "from pathlib import Path\n",
    "\n",
    "import seaborn as sns\n",
    "\n",
    "from airline_delay.visualization.dataframe_explore import report_columns_inspection\n",
    "from airline_delay.data.make_datasets import make_airline_dataframe"
   ]
  },
  {
   "cell_type": "code",
   "execution_count": 52,
   "id": "1d1f9618-9247-4fc7-9ad3-38f85395e129",
   "metadata": {},
   "outputs": [],
   "source": [
    "df_flt = make_airline_dataframe(\n",
    "    Path('../data/flights_sample_3m.csv')\n",
    ")"
   ]
  },
  {
   "cell_type": "code",
   "execution_count": 53,
   "id": "9e47f749",
   "metadata": {},
   "outputs": [
    {
     "data": {
      "text/html": [
       "<div>\n",
       "<style scoped>\n",
       "    .dataframe tbody tr th:only-of-type {\n",
       "        vertical-align: middle;\n",
       "    }\n",
       "\n",
       "    .dataframe tbody tr th {\n",
       "        vertical-align: top;\n",
       "    }\n",
       "\n",
       "    .dataframe thead th {\n",
       "        text-align: right;\n",
       "    }\n",
       "</style>\n",
       "<table border=\"1\" class=\"dataframe\">\n",
       "  <thead>\n",
       "    <tr style=\"text-align: right;\">\n",
       "      <th></th>\n",
       "      <th>Missing Values</th>\n",
       "      <th>Missing %age</th>\n",
       "      <th>Datatype</th>\n",
       "    </tr>\n",
       "  </thead>\n",
       "  <tbody>\n",
       "    <tr>\n",
       "      <th>CANCELLATION_CODE</th>\n",
       "      <td>2920860</td>\n",
       "      <td>97.362%</td>\n",
       "      <td>object</td>\n",
       "    </tr>\n",
       "    <tr>\n",
       "      <th>DELAY_DUE_LATE_AIRCRAFT</th>\n",
       "      <td>2466137</td>\n",
       "      <td>82.2046%</td>\n",
       "      <td>float64</td>\n",
       "    </tr>\n",
       "    <tr>\n",
       "      <th>DELAY_DUE_SECURITY</th>\n",
       "      <td>2466137</td>\n",
       "      <td>82.2046%</td>\n",
       "      <td>float64</td>\n",
       "    </tr>\n",
       "    <tr>\n",
       "      <th>DELAY_DUE_NAS</th>\n",
       "      <td>2466137</td>\n",
       "      <td>82.2046%</td>\n",
       "      <td>float64</td>\n",
       "    </tr>\n",
       "    <tr>\n",
       "      <th>DELAY_DUE_WEATHER</th>\n",
       "      <td>2466137</td>\n",
       "      <td>82.2046%</td>\n",
       "      <td>float64</td>\n",
       "    </tr>\n",
       "    <tr>\n",
       "      <th>DELAY_DUE_CARRIER</th>\n",
       "      <td>2466137</td>\n",
       "      <td>82.2046%</td>\n",
       "      <td>float64</td>\n",
       "    </tr>\n",
       "    <tr>\n",
       "      <th>AIR_TIME</th>\n",
       "      <td>86198</td>\n",
       "      <td>2.8733%</td>\n",
       "      <td>float64</td>\n",
       "    </tr>\n",
       "    <tr>\n",
       "      <th>ELAPSED_TIME</th>\n",
       "      <td>86198</td>\n",
       "      <td>2.8733%</td>\n",
       "      <td>float64</td>\n",
       "    </tr>\n",
       "    <tr>\n",
       "      <th>ARR_DELAY</th>\n",
       "      <td>86198</td>\n",
       "      <td>2.8733%</td>\n",
       "      <td>float64</td>\n",
       "    </tr>\n",
       "    <tr>\n",
       "      <th>WHEELS_ON</th>\n",
       "      <td>79944</td>\n",
       "      <td>2.6648%</td>\n",
       "      <td>float64</td>\n",
       "    </tr>\n",
       "    <tr>\n",
       "      <th>TAXI_IN</th>\n",
       "      <td>79944</td>\n",
       "      <td>2.6648%</td>\n",
       "      <td>float64</td>\n",
       "    </tr>\n",
       "    <tr>\n",
       "      <th>ARR_TIME</th>\n",
       "      <td>79942</td>\n",
       "      <td>2.6647%</td>\n",
       "      <td>float64</td>\n",
       "    </tr>\n",
       "    <tr>\n",
       "      <th>TAXI_OUT</th>\n",
       "      <td>78806</td>\n",
       "      <td>2.6269%</td>\n",
       "      <td>float64</td>\n",
       "    </tr>\n",
       "    <tr>\n",
       "      <th>WHEELS_OFF</th>\n",
       "      <td>78806</td>\n",
       "      <td>2.6269%</td>\n",
       "      <td>float64</td>\n",
       "    </tr>\n",
       "    <tr>\n",
       "      <th>DEP_DELAY</th>\n",
       "      <td>77644</td>\n",
       "      <td>2.5881%</td>\n",
       "      <td>float64</td>\n",
       "    </tr>\n",
       "    <tr>\n",
       "      <th>DEP_TIME</th>\n",
       "      <td>77615</td>\n",
       "      <td>2.5872%</td>\n",
       "      <td>float64</td>\n",
       "    </tr>\n",
       "    <tr>\n",
       "      <th>CRS_ELAPSED_TIME</th>\n",
       "      <td>14</td>\n",
       "      <td>0.0005%</td>\n",
       "      <td>float64</td>\n",
       "    </tr>\n",
       "    <tr>\n",
       "      <th>ORIGIN_CITY</th>\n",
       "      <td>0</td>\n",
       "      <td>0.0%</td>\n",
       "      <td>object</td>\n",
       "    </tr>\n",
       "    <tr>\n",
       "      <th>AIRLINE_DOT</th>\n",
       "      <td>0</td>\n",
       "      <td>0.0%</td>\n",
       "      <td>object</td>\n",
       "    </tr>\n",
       "    <tr>\n",
       "      <th>AIRLINE_CODE</th>\n",
       "      <td>0</td>\n",
       "      <td>0.0%</td>\n",
       "      <td>object</td>\n",
       "    </tr>\n",
       "    <tr>\n",
       "      <th>DOT_CODE</th>\n",
       "      <td>0</td>\n",
       "      <td>0.0%</td>\n",
       "      <td>int64</td>\n",
       "    </tr>\n",
       "    <tr>\n",
       "      <th>FL_NUMBER</th>\n",
       "      <td>0</td>\n",
       "      <td>0.0%</td>\n",
       "      <td>int64</td>\n",
       "    </tr>\n",
       "    <tr>\n",
       "      <th>DISTANCE</th>\n",
       "      <td>0</td>\n",
       "      <td>0.0%</td>\n",
       "      <td>float64</td>\n",
       "    </tr>\n",
       "    <tr>\n",
       "      <th>ORIGIN</th>\n",
       "      <td>0</td>\n",
       "      <td>0.0%</td>\n",
       "      <td>object</td>\n",
       "    </tr>\n",
       "    <tr>\n",
       "      <th>DEST</th>\n",
       "      <td>0</td>\n",
       "      <td>0.0%</td>\n",
       "      <td>object</td>\n",
       "    </tr>\n",
       "    <tr>\n",
       "      <th>DIVERTED</th>\n",
       "      <td>0</td>\n",
       "      <td>0.0%</td>\n",
       "      <td>float64</td>\n",
       "    </tr>\n",
       "    <tr>\n",
       "      <th>CANCELLED</th>\n",
       "      <td>0</td>\n",
       "      <td>0.0%</td>\n",
       "      <td>float64</td>\n",
       "    </tr>\n",
       "    <tr>\n",
       "      <th>DEST_CITY</th>\n",
       "      <td>0</td>\n",
       "      <td>0.0%</td>\n",
       "      <td>object</td>\n",
       "    </tr>\n",
       "    <tr>\n",
       "      <th>CRS_ARR_TIME</th>\n",
       "      <td>0</td>\n",
       "      <td>0.0%</td>\n",
       "      <td>int64</td>\n",
       "    </tr>\n",
       "    <tr>\n",
       "      <th>AIRLINE</th>\n",
       "      <td>0</td>\n",
       "      <td>0.0%</td>\n",
       "      <td>object</td>\n",
       "    </tr>\n",
       "    <tr>\n",
       "      <th>CRS_DEP_TIME</th>\n",
       "      <td>0</td>\n",
       "      <td>0.0%</td>\n",
       "      <td>int64</td>\n",
       "    </tr>\n",
       "    <tr>\n",
       "      <th>FL_DATE</th>\n",
       "      <td>0</td>\n",
       "      <td>0.0%</td>\n",
       "      <td>object</td>\n",
       "    </tr>\n",
       "  </tbody>\n",
       "</table>\n",
       "</div>"
      ],
      "text/plain": [
       "                         Missing Values Missing %age Datatype\n",
       "CANCELLATION_CODE               2920860      97.362%   object\n",
       "DELAY_DUE_LATE_AIRCRAFT         2466137     82.2046%  float64\n",
       "DELAY_DUE_SECURITY              2466137     82.2046%  float64\n",
       "DELAY_DUE_NAS                   2466137     82.2046%  float64\n",
       "DELAY_DUE_WEATHER               2466137     82.2046%  float64\n",
       "DELAY_DUE_CARRIER               2466137     82.2046%  float64\n",
       "AIR_TIME                          86198      2.8733%  float64\n",
       "ELAPSED_TIME                      86198      2.8733%  float64\n",
       "ARR_DELAY                         86198      2.8733%  float64\n",
       "WHEELS_ON                         79944      2.6648%  float64\n",
       "TAXI_IN                           79944      2.6648%  float64\n",
       "ARR_TIME                          79942      2.6647%  float64\n",
       "TAXI_OUT                          78806      2.6269%  float64\n",
       "WHEELS_OFF                        78806      2.6269%  float64\n",
       "DEP_DELAY                         77644      2.5881%  float64\n",
       "DEP_TIME                          77615      2.5872%  float64\n",
       "CRS_ELAPSED_TIME                     14      0.0005%  float64\n",
       "ORIGIN_CITY                           0         0.0%   object\n",
       "AIRLINE_DOT                           0         0.0%   object\n",
       "AIRLINE_CODE                          0         0.0%   object\n",
       "DOT_CODE                              0         0.0%    int64\n",
       "FL_NUMBER                             0         0.0%    int64\n",
       "DISTANCE                              0         0.0%  float64\n",
       "ORIGIN                                0         0.0%   object\n",
       "DEST                                  0         0.0%   object\n",
       "DIVERTED                              0         0.0%  float64\n",
       "CANCELLED                             0         0.0%  float64\n",
       "DEST_CITY                             0         0.0%   object\n",
       "CRS_ARR_TIME                          0         0.0%    int64\n",
       "AIRLINE                               0         0.0%   object\n",
       "CRS_DEP_TIME                          0         0.0%    int64\n",
       "FL_DATE                               0         0.0%   object"
      ]
     },
     "execution_count": 53,
     "metadata": {},
     "output_type": "execute_result"
    }
   ],
   "source": [
    "# check missing values\n",
    "miss_ser = df_flt.isna().sum()\n",
    "\n",
    "miss_val = pd.DataFrame({\n",
    "    'Missing Values':miss_ser.values,\n",
    "    'Missing %age':round((miss_ser/df_flt.shape[0])*100,4).astype(str) + '%',\n",
    "    'Datatype':df_flt.dtypes\n",
    "})\n",
    "\n",
    "miss_val.sort_values(by='Missing %age', ascending=False)"
   ]
  },
  {
   "cell_type": "markdown",
   "id": "89c92cdc",
   "metadata": {},
   "source": [
    "We now preprocess the data and see the changes in the summary statistics."
   ]
  },
  {
   "cell_type": "code",
   "execution_count": 54,
   "id": "f6001288",
   "metadata": {},
   "outputs": [],
   "source": [
    "def preprocess(df):\n",
    "    orig_count = df.shape[0]\n",
    "    # remove cancelled flights and diverted flights\n",
    "    df = df.loc[(df[\"CANCELLED\"]==0)&(df[\"DIVERTED\"]==0)]\n",
    "    # remove records with important feature missing\n",
    "    df = df.dropna(subset = [\"AIR_TIME\",\"ARR_TIME\",\"DEP_TIME\"])\n",
    "    print(f\"{(100*(orig_count - df.shape[0])/orig_count):.2f} % of data are removed.\")\n",
    "    \n",
    "    # convert fl_date to date \n",
    "    if df[\"FL_DATE\"].dtype == \"object\":\n",
    "        df[\"FL_DATE\"] = pd.to_datetime(df[\"FL_DATE\"], format = \"%Y-%m-%d\")\n",
    "    \n",
    "    return df"
   ]
  },
  {
   "cell_type": "code",
   "execution_count": 55,
   "id": "02d7c3c5",
   "metadata": {},
   "outputs": [
    {
     "name": "stdout",
     "output_type": "stream",
     "text": [
      "2.87 % of data are removed.\n"
     ]
    }
   ],
   "source": [
    "df_flt_clean = preprocess(df_flt)"
   ]
  },
  {
   "cell_type": "code",
   "execution_count": 56,
   "id": "ac240f47-9fd1-4f65-ae32-51338f48a995",
   "metadata": {},
   "outputs": [
    {
     "data": {
      "text/html": [
       "<div>\n",
       "<style scoped>\n",
       "    .dataframe tbody tr th:only-of-type {\n",
       "        vertical-align: middle;\n",
       "    }\n",
       "\n",
       "    .dataframe tbody tr th {\n",
       "        vertical-align: top;\n",
       "    }\n",
       "\n",
       "    .dataframe thead th {\n",
       "        text-align: right;\n",
       "    }\n",
       "</style>\n",
       "<table border=\"1\" class=\"dataframe\">\n",
       "  <thead>\n",
       "    <tr style=\"text-align: right;\">\n",
       "      <th></th>\n",
       "      <th>Missing Values</th>\n",
       "      <th>Missing %age</th>\n",
       "      <th>Datatype</th>\n",
       "    </tr>\n",
       "  </thead>\n",
       "  <tbody>\n",
       "    <tr>\n",
       "      <th>DELAY_DUE_LATE_AIRCRAFT</th>\n",
       "      <td>2379939</td>\n",
       "      <td>81.6781%</td>\n",
       "      <td>float64</td>\n",
       "    </tr>\n",
       "    <tr>\n",
       "      <th>DELAY_DUE_SECURITY</th>\n",
       "      <td>2379939</td>\n",
       "      <td>81.6781%</td>\n",
       "      <td>float64</td>\n",
       "    </tr>\n",
       "    <tr>\n",
       "      <th>DELAY_DUE_NAS</th>\n",
       "      <td>2379939</td>\n",
       "      <td>81.6781%</td>\n",
       "      <td>float64</td>\n",
       "    </tr>\n",
       "    <tr>\n",
       "      <th>DELAY_DUE_WEATHER</th>\n",
       "      <td>2379939</td>\n",
       "      <td>81.6781%</td>\n",
       "      <td>float64</td>\n",
       "    </tr>\n",
       "    <tr>\n",
       "      <th>DELAY_DUE_CARRIER</th>\n",
       "      <td>2379939</td>\n",
       "      <td>81.6781%</td>\n",
       "      <td>float64</td>\n",
       "    </tr>\n",
       "    <tr>\n",
       "      <th>CANCELLATION_CODE</th>\n",
       "      <td>2913802</td>\n",
       "      <td>100.0%</td>\n",
       "      <td>object</td>\n",
       "    </tr>\n",
       "    <tr>\n",
       "      <th>AIRLINE</th>\n",
       "      <td>0</td>\n",
       "      <td>0.0%</td>\n",
       "      <td>object</td>\n",
       "    </tr>\n",
       "    <tr>\n",
       "      <th>DISTANCE</th>\n",
       "      <td>0</td>\n",
       "      <td>0.0%</td>\n",
       "      <td>float64</td>\n",
       "    </tr>\n",
       "    <tr>\n",
       "      <th>AIR_TIME</th>\n",
       "      <td>0</td>\n",
       "      <td>0.0%</td>\n",
       "      <td>float64</td>\n",
       "    </tr>\n",
       "    <tr>\n",
       "      <th>ELAPSED_TIME</th>\n",
       "      <td>0</td>\n",
       "      <td>0.0%</td>\n",
       "      <td>float64</td>\n",
       "    </tr>\n",
       "    <tr>\n",
       "      <th>CRS_ELAPSED_TIME</th>\n",
       "      <td>0</td>\n",
       "      <td>0.0%</td>\n",
       "      <td>float64</td>\n",
       "    </tr>\n",
       "    <tr>\n",
       "      <th>DIVERTED</th>\n",
       "      <td>0</td>\n",
       "      <td>0.0%</td>\n",
       "      <td>float64</td>\n",
       "    </tr>\n",
       "    <tr>\n",
       "      <th>CANCELLED</th>\n",
       "      <td>0</td>\n",
       "      <td>0.0%</td>\n",
       "      <td>float64</td>\n",
       "    </tr>\n",
       "    <tr>\n",
       "      <th>ARR_DELAY</th>\n",
       "      <td>0</td>\n",
       "      <td>0.0%</td>\n",
       "      <td>float64</td>\n",
       "    </tr>\n",
       "    <tr>\n",
       "      <th>ARR_TIME</th>\n",
       "      <td>0</td>\n",
       "      <td>0.0%</td>\n",
       "      <td>float64</td>\n",
       "    </tr>\n",
       "    <tr>\n",
       "      <th>CRS_ARR_TIME</th>\n",
       "      <td>0</td>\n",
       "      <td>0.0%</td>\n",
       "      <td>int64</td>\n",
       "    </tr>\n",
       "    <tr>\n",
       "      <th>FL_DATE</th>\n",
       "      <td>0</td>\n",
       "      <td>0.0%</td>\n",
       "      <td>datetime64[ns]</td>\n",
       "    </tr>\n",
       "    <tr>\n",
       "      <th>WHEELS_ON</th>\n",
       "      <td>0</td>\n",
       "      <td>0.0%</td>\n",
       "      <td>float64</td>\n",
       "    </tr>\n",
       "    <tr>\n",
       "      <th>WHEELS_OFF</th>\n",
       "      <td>0</td>\n",
       "      <td>0.0%</td>\n",
       "      <td>float64</td>\n",
       "    </tr>\n",
       "    <tr>\n",
       "      <th>TAXI_OUT</th>\n",
       "      <td>0</td>\n",
       "      <td>0.0%</td>\n",
       "      <td>float64</td>\n",
       "    </tr>\n",
       "    <tr>\n",
       "      <th>DEP_DELAY</th>\n",
       "      <td>0</td>\n",
       "      <td>0.0%</td>\n",
       "      <td>float64</td>\n",
       "    </tr>\n",
       "    <tr>\n",
       "      <th>DEP_TIME</th>\n",
       "      <td>0</td>\n",
       "      <td>0.0%</td>\n",
       "      <td>float64</td>\n",
       "    </tr>\n",
       "    <tr>\n",
       "      <th>CRS_DEP_TIME</th>\n",
       "      <td>0</td>\n",
       "      <td>0.0%</td>\n",
       "      <td>int64</td>\n",
       "    </tr>\n",
       "    <tr>\n",
       "      <th>DEST_CITY</th>\n",
       "      <td>0</td>\n",
       "      <td>0.0%</td>\n",
       "      <td>object</td>\n",
       "    </tr>\n",
       "    <tr>\n",
       "      <th>DEST</th>\n",
       "      <td>0</td>\n",
       "      <td>0.0%</td>\n",
       "      <td>object</td>\n",
       "    </tr>\n",
       "    <tr>\n",
       "      <th>ORIGIN_CITY</th>\n",
       "      <td>0</td>\n",
       "      <td>0.0%</td>\n",
       "      <td>object</td>\n",
       "    </tr>\n",
       "    <tr>\n",
       "      <th>ORIGIN</th>\n",
       "      <td>0</td>\n",
       "      <td>0.0%</td>\n",
       "      <td>object</td>\n",
       "    </tr>\n",
       "    <tr>\n",
       "      <th>FL_NUMBER</th>\n",
       "      <td>0</td>\n",
       "      <td>0.0%</td>\n",
       "      <td>int64</td>\n",
       "    </tr>\n",
       "    <tr>\n",
       "      <th>DOT_CODE</th>\n",
       "      <td>0</td>\n",
       "      <td>0.0%</td>\n",
       "      <td>int64</td>\n",
       "    </tr>\n",
       "    <tr>\n",
       "      <th>AIRLINE_CODE</th>\n",
       "      <td>0</td>\n",
       "      <td>0.0%</td>\n",
       "      <td>object</td>\n",
       "    </tr>\n",
       "    <tr>\n",
       "      <th>AIRLINE_DOT</th>\n",
       "      <td>0</td>\n",
       "      <td>0.0%</td>\n",
       "      <td>object</td>\n",
       "    </tr>\n",
       "    <tr>\n",
       "      <th>TAXI_IN</th>\n",
       "      <td>0</td>\n",
       "      <td>0.0%</td>\n",
       "      <td>float64</td>\n",
       "    </tr>\n",
       "  </tbody>\n",
       "</table>\n",
       "</div>"
      ],
      "text/plain": [
       "                         Missing Values Missing %age        Datatype\n",
       "DELAY_DUE_LATE_AIRCRAFT         2379939     81.6781%         float64\n",
       "DELAY_DUE_SECURITY              2379939     81.6781%         float64\n",
       "DELAY_DUE_NAS                   2379939     81.6781%         float64\n",
       "DELAY_DUE_WEATHER               2379939     81.6781%         float64\n",
       "DELAY_DUE_CARRIER               2379939     81.6781%         float64\n",
       "CANCELLATION_CODE               2913802       100.0%          object\n",
       "AIRLINE                               0         0.0%          object\n",
       "DISTANCE                              0         0.0%         float64\n",
       "AIR_TIME                              0         0.0%         float64\n",
       "ELAPSED_TIME                          0         0.0%         float64\n",
       "CRS_ELAPSED_TIME                      0         0.0%         float64\n",
       "DIVERTED                              0         0.0%         float64\n",
       "CANCELLED                             0         0.0%         float64\n",
       "ARR_DELAY                             0         0.0%         float64\n",
       "ARR_TIME                              0         0.0%         float64\n",
       "CRS_ARR_TIME                          0         0.0%           int64\n",
       "FL_DATE                               0         0.0%  datetime64[ns]\n",
       "WHEELS_ON                             0         0.0%         float64\n",
       "WHEELS_OFF                            0         0.0%         float64\n",
       "TAXI_OUT                              0         0.0%         float64\n",
       "DEP_DELAY                             0         0.0%         float64\n",
       "DEP_TIME                              0         0.0%         float64\n",
       "CRS_DEP_TIME                          0         0.0%           int64\n",
       "DEST_CITY                             0         0.0%          object\n",
       "DEST                                  0         0.0%          object\n",
       "ORIGIN_CITY                           0         0.0%          object\n",
       "ORIGIN                                0         0.0%          object\n",
       "FL_NUMBER                             0         0.0%           int64\n",
       "DOT_CODE                              0         0.0%           int64\n",
       "AIRLINE_CODE                          0         0.0%          object\n",
       "AIRLINE_DOT                           0         0.0%          object\n",
       "TAXI_IN                               0         0.0%         float64"
      ]
     },
     "execution_count": 56,
     "metadata": {},
     "output_type": "execute_result"
    }
   ],
   "source": [
    "# check missing values\n",
    "miss_ser = df_flt_clean.isna().sum()\n",
    "\n",
    "miss_val = pd.DataFrame({\n",
    "    'Missing Values':miss_ser.values,\n",
    "    'Missing %age':round((miss_ser/df_flt_clean.shape[0])*100,4).astype(str) + '%',\n",
    "    'Datatype':df_flt_clean.dtypes\n",
    "})\n",
    "\n",
    "miss_val.sort_values(by='Missing %age', ascending=False)"
   ]
  },
  {
   "cell_type": "markdown",
   "id": "2c14b18f",
   "metadata": {},
   "source": [
    "When we drop the cancelled flights the remaining flights have a missing cancellation code. So this column should be eventually dropped.\n",
    "\n",
    "Flights that are not delayed will have missing values for delay columns. These should not be filled with mean or median. They should be filled with 0."
   ]
  },
  {
   "cell_type": "code",
   "execution_count": 57,
   "id": "1ee5279e-2563-41ea-ba39-53fdfaa41717",
   "metadata": {},
   "outputs": [
    {
     "data": {
      "text/plain": [
       "True"
      ]
     },
     "execution_count": 57,
     "metadata": {},
     "output_type": "execute_result"
    }
   ],
   "source": [
    "# check duplicates\n",
    "len(df_flt) == len(df_flt.drop_duplicates())"
   ]
  },
  {
   "cell_type": "markdown",
   "id": "e754400b",
   "metadata": {},
   "source": [
    "## Add Additional features (month, day of week, departure hour)"
   ]
  },
  {
   "cell_type": "code",
   "execution_count": 58,
   "id": "75f30cdc",
   "metadata": {},
   "outputs": [],
   "source": [
    "def add_additional_features(df):\n",
    "    df[\"flt_month\"] = df[\"FL_DATE\"].dt.month\n",
    "    df[\"flt_day_of_week\"] = df[\"FL_DATE\"].dt.dayofweek\n",
    "    df[\"schd_dep_hour\"] = df[\"CRS_DEP_TIME\"].astype(\"str\").str[:-2]\n",
    "    df.loc[df[\"schd_dep_hour\"]==\"\", \"schd_dep_hour\"] = \"0\"\n",
    "    return df"
   ]
  },
  {
   "cell_type": "code",
   "execution_count": 59,
   "id": "52585698-c56e-4a44-9797-64805e481e6e",
   "metadata": {},
   "outputs": [],
   "source": [
    "df_flt_clean = add_additional_features(df_flt_clean)"
   ]
  },
  {
   "cell_type": "markdown",
   "id": "6d63130b",
   "metadata": {},
   "source": [
    "## Check distribution of features"
   ]
  },
  {
   "cell_type": "code",
   "execution_count": 60,
   "id": "586215c0",
   "metadata": {},
   "outputs": [
    {
     "data": {
      "text/plain": [
       "Index(['FL_DATE', 'AIRLINE', 'AIRLINE_DOT', 'AIRLINE_CODE', 'DOT_CODE',\n",
       "       'FL_NUMBER', 'ORIGIN', 'ORIGIN_CITY', 'DEST', 'DEST_CITY',\n",
       "       'CRS_DEP_TIME', 'DEP_TIME', 'DEP_DELAY', 'TAXI_OUT', 'WHEELS_OFF',\n",
       "       'WHEELS_ON', 'TAXI_IN', 'CRS_ARR_TIME', 'ARR_TIME', 'ARR_DELAY',\n",
       "       'CANCELLED', 'CANCELLATION_CODE', 'DIVERTED', 'CRS_ELAPSED_TIME',\n",
       "       'ELAPSED_TIME', 'AIR_TIME', 'DISTANCE', 'DELAY_DUE_CARRIER',\n",
       "       'DELAY_DUE_WEATHER', 'DELAY_DUE_NAS', 'DELAY_DUE_SECURITY',\n",
       "       'DELAY_DUE_LATE_AIRCRAFT', 'flt_month', 'flt_day_of_week',\n",
       "       'schd_dep_hour'],\n",
       "      dtype='object')"
      ]
     },
     "execution_count": 60,
     "metadata": {},
     "output_type": "execute_result"
    }
   ],
   "source": [
    "df_flt_clean.columns"
   ]
  },
  {
   "cell_type": "code",
   "execution_count": 61,
   "id": "160fe2ab",
   "metadata": {},
   "outputs": [
    {
     "name": "stdout",
     "output_type": "stream",
     "text": [
      "+--------------+---------------+-------------+--------------+--------------+\n",
      "|    Column    | options_count | options_set | values_count | values_ratio |\n",
      "+--------------+---------------+-------------+--------------+--------------+\n",
      "| AIRLINE_CODE |       18      |      UA     |    248270    |     0.09     |\n",
      "|      -       |       -       |      DL     |    388475    |     0.13     |\n",
      "|      -       |       -       |      NK     |    93200     |     0.03     |\n",
      "|      -       |       -       |      WN     |    555869    |     0.19     |\n",
      "|      -       |       -       |      AA     |    371218    |     0.13     |\n",
      "|      -       |       -       |      YX     |    138147    |     0.05     |\n",
      "|      -       |       -       |      AS     |    98294     |     0.03     |\n",
      "|      -       |       -       |      B6     |    109447    |     0.04     |\n",
      "|      -       |       -       |      OH     |    103483    |     0.04     |\n",
      "|      -       |       -       |      G4     |    50179     |     0.02     |\n",
      "|      -       |       -       |      EV     |    17951     |     0.01     |\n",
      "|      -       |       -       |      OO     |    334986    |     0.11     |\n",
      "|      -       |       -       |      9E     |    109848    |     0.04     |\n",
      "|      -       |       -       |      MQ     |    117312    |     0.04     |\n",
      "|      -       |       -       |      F9     |    62711     |     0.02     |\n",
      "|      -       |       -       |      YV     |    62477     |     0.02     |\n",
      "|      -       |       -       |      QX     |    20237     |     0.01     |\n",
      "|      -       |       -       |      HA     |    31698     |     0.01     |\n",
      "+--------------+---------------+-------------+--------------+--------------+\n"
     ]
    }
   ],
   "source": [
    "# look at airlines included in the dataset\n",
    "report_columns_inspection(df_flt_clean, columns=['AIRLINE_CODE'])"
   ]
  },
  {
   "cell_type": "code",
   "execution_count": 62,
   "id": "c6b663ab",
   "metadata": {},
   "outputs": [
    {
     "data": {
      "text/plain": [
       "<Axes: >"
      ]
     },
     "execution_count": 62,
     "metadata": {},
     "output_type": "execute_result"
    },
    {
     "data": {
      "image/png": "[encoded data removed]",
      "text/plain": [
       "<Figure size 640x480 with 1 Axes>"
      ]
     },
     "metadata": {},
     "output_type": "display_data"
    }
   ],
   "source": [
    "# check distribution of DEP_DELAY\n",
    "df_flt_clean['DEP_DELAY'].hist(bins=200)"
   ]
  },
  {
   "cell_type": "code",
   "execution_count": 63,
   "id": "94e260cd",
   "metadata": {},
   "outputs": [
    {
     "data": {
      "text/plain": [
       "<Axes: xlabel='AIRLINE'>"
      ]
     },
     "execution_count": 63,
     "metadata": {},
     "output_type": "execute_result"
    },
    {
     "data": {
      "image/png": "[encoded data removed]",
      "text/plain": [
       "<Figure size 640x480 with 1 Axes>"
      ]
     },
     "metadata": {},
     "output_type": "display_data"
    }
   ],
   "source": [
    "# look at average of DEP_DELAY for each airline\n",
    "df_flt_clean.groupby('AIRLINE')['DEP_DELAY'].mean().sort_values().plot(kind='bar')"
   ]
  },
  {
   "cell_type": "code",
   "execution_count": 68,
   "id": "49ad6208",
   "metadata": {},
   "outputs": [
    {
     "data": {
      "text/plain": [
       "<Axes: xlabel='flt_month'>"
      ]
     },
     "execution_count": 68,
     "metadata": {},
     "output_type": "execute_result"
    },
    {
     "data": {
      "image/png": "[encoded data removed]",
      "text/plain": [
       "<Figure size 640x480 with 1 Axes>"
      ]
     },
     "metadata": {},
     "output_type": "display_data"
    }
   ],
   "source": [
    "#get delay per month\n",
    "df_flt_clean.groupby('flt_month')['DEP_DELAY'].mean().reset_index().sort_values('flt_month').plot(x='flt_month', kind='bar')"
   ]
  },
  {
   "cell_type": "code",
   "execution_count": 69,
   "id": "62a4d716",
   "metadata": {},
   "outputs": [
    {
     "data": {
      "text/plain": [
       "<Axes: >"
      ]
     },
     "execution_count": 69,
     "metadata": {},
     "output_type": "execute_result"
    },
    {
     "data": {
      "image/png": "[encoded data removed]",
      "text/plain": [
       "<Figure size 640x480 with 1 Axes>"
      ]
     },
     "metadata": {},
     "output_type": "display_data"
    }
   ],
   "source": [
    "# get delay per hour of departure\n",
    "df_flt_clean.groupby('schd_dep_hour')['DEP_DELAY'].mean().reset_index().sort_values('schd_dep_hour').plot(kind='bar')"
   ]
  }
 ],
 "metadata": {
  "kernelspec": {
   "display_name": "IVADO",
   "language": "python",
   "name": "python3"
  },
  "language_info": {
   "codemirror_mode": {
    "name": "ipython",
    "version": 3
   },
   "file_extension": ".py",
   "mimetype": "text/x-python",
   "name": "python",
   "nbconvert_exporter": "python",
   "pygments_lexer": "ipython3",
   "version": "3.12.4"
  }
 },
 "nbformat": 4,
 "nbformat_minor": 5
}
