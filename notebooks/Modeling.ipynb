{
 "cells": [
  {
   "cell_type": "code",
   "execution_count": 1,
   "metadata": {},
   "outputs": [],
   "source": [
    "%load_ext autoreload\n",
    "%autoreload 2\n",
    "from pathlib import Path\n",
    "\n",
    "# TODO: comment out if you want to check info logs\n",
    "# import logging\n",
    "# logging.basicConfig(level=logging.INFO)\n",
    "import joblib\n",
    "import pandas as pd\n",
    "from sklearn.ensemble import RandomForestRegressor, GradientBoostingRegressor\n",
    "from sklearn.linear_model import LinearRegression, Ridge, Lasso\n",
    "from sklearn.metrics import mean_squared_error, r2_score, mean_absolute_error\n",
    "from sklearn.neural_network import MLPRegressor\n",
    "from sklearn.pipeline import Pipeline\n",
    "from sklearn.tree import DecisionTreeRegressor\n",
    "\n",
    "from airline_delay.data.make_datasets import make_airline_dataframe\n",
    "from airline_delay.data.prep_datasets import prepare_regression_tabular_data\n",
    "from airline_delay.features.skl_build_features import FeatureNames, make_data_transformer\n",
    "from airline_delay.models.skl_train_models import (\n",
    "    regression_evaluation,\n",
    "    print_regression_scoring,\n",
    "    train_and_evaluate,\n",
    ")"
   ]
  },
  {
   "cell_type": "code",
   "execution_count": 2,
   "metadata": {},
   "outputs": [],
   "source": [
    "df = make_airline_dataframe(\n",
    "    Path('../data/flights_sample_3m.csv')\n",
    ")"
   ]
  },
  {
   "cell_type": "code",
   "execution_count": 3,
   "metadata": {},
   "outputs": [],
   "source": [
    "predictors = list(df.columns)\n",
    "# do not include _DELAY columsn because these only have values when we know that the plane has been delayed.\n",
    "predictors = [col for col in predictors if \"DELAY_\" not in col]\n",
    "predictors.remove('DEP_DELAY')\n",
    "predicted = 'DEP_DELAY'"
   ]
  },
  {
   "cell_type": "code",
   "execution_count": 4,
   "metadata": {},
   "outputs": [
    {
     "name": "stderr",
     "output_type": "stream",
     "text": [
      "/Users/najibmozanem/Library/CloudStorage/OneDrive-McGillUniversity/AC/IVADO workshop/REPOS/bank-marketing-cohort-2/src/airline_delay/data/prep_datasets.py:132: SettingWithCopyWarning: \n",
      "A value is trying to be set on a copy of a slice from a DataFrame.\n",
      "Try using .loc[row_indexer,col_indexer] = value instead\n",
      "\n",
      "See the caveats in the documentation: https://pandas.pydata.org/pandas-docs/stable/user_guide/indexing.html#returning-a-view-versus-a-copy\n",
      "  data_frame[col] = data_frame[col].fillna(data_frame[col].median())\n",
      "/Users/najibmozanem/Library/CloudStorage/OneDrive-McGillUniversity/AC/IVADO workshop/REPOS/bank-marketing-cohort-2/src/airline_delay/data/prep_datasets.py:140: SettingWithCopyWarning: \n",
      "A value is trying to be set on a copy of a slice from a DataFrame.\n",
      "Try using .loc[row_indexer,col_indexer] = value instead\n",
      "\n",
      "See the caveats in the documentation: https://pandas.pydata.org/pandas-docs/stable/user_guide/indexing.html#returning-a-view-versus-a-copy\n",
      "  data_frame[col] = data_frame[col].fillna(data_frame[col].mode()[0])\n"
     ]
    }
   ],
   "source": [
    "dataset = prepare_regression_tabular_data(\n",
    "    df, predictors, predicted\n",
    ")"
   ]
  },
  {
   "cell_type": "code",
   "execution_count": 5,
   "metadata": {},
   "outputs": [],
   "source": [
    "numerical_cols = dataset.train_x.select_dtypes(exclude='object').columns.tolist()\n",
    "categorical_cols = dataset.train_x.select_dtypes('object').columns.tolist()\n",
    "feature_names = FeatureNames(numerical_cols, categorical_cols)\n",
    "input_transformer = make_data_transformer(feature_names)\n",
    "regressor = DecisionTreeRegressor()"
   ]
  },
  {
   "cell_type": "code",
   "execution_count": 15,
   "metadata": {},
   "outputs": [
    {
     "name": "stdout",
     "output_type": "stream",
     "text": [
      "+-------+--------+-------+-------+\n",
      "| Split |  MSE   |  MAE  |   R2  |\n",
      "+-------+--------+-------+-------+\n",
      "| train |  0.0   |  0.0  |  1.0  |\n",
      "|  val  | 30.709 | 1.969 | 0.988 |\n",
      "|  test | 36.335 | 1.982 | 0.985 |\n",
      "+-------+--------+-------+-------+\n"
     ]
    }
   ],
   "source": [
    "model = Pipeline(\n",
    "    [\n",
    "        ('input_transformer', input_transformer),\n",
    "        ('regressor', regressor),\n",
    "    ]\n",
    ")\n",
    "model.fit(dataset.train_x, dataset.train_y)\n",
    "results = regression_evaluation(model, dataset)\n",
    "print_regression_scoring(results)"
   ]
  }
 ],
 "metadata": {
  "kernelspec": {
   "display_name": "IVADO",
   "language": "python",
   "name": "python3"
  },
  "language_info": {
   "codemirror_mode": {
    "name": "ipython",
    "version": 3
   },
   "file_extension": ".py",
   "mimetype": "text/x-python",
   "name": "python",
   "nbconvert_exporter": "python",
   "pygments_lexer": "ipython3",
   "version": "3.12.4"
  }
 },
 "nbformat": 4,
 "nbformat_minor": 2
}
